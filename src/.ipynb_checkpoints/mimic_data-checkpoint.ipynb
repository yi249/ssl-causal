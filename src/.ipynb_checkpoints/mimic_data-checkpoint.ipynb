{
 "cells": [
  {
   "cell_type": "code",
   "execution_count": 1,
   "id": "25c3f62b",
   "metadata": {},
   "outputs": [],
   "source": [
    "import os\n",
    "import pandas as pd\n",
    "import numpy as np\n",
    "from sklearn.utils import shuffle\n",
    "from tqdm import tqdm"
   ]
  },
  {
   "cell_type": "code",
   "execution_count": 2,
   "id": "a74e0f10",
   "metadata": {
    "scrolled": false
   },
   "outputs": [],
   "source": [
    "#iterate throguh dir and get all the image path names\n",
    "data_dir = \"/home/yasin/Desktop/causalssl/datasets/mimic/\"\n",
    "file_paths = []\n",
    "im_names = []\n",
    "patient = []\n",
    "study = []\n",
    "\n",
    "for root,dirs, files in os.walk(data_dir):\n",
    "    for file in files: \n",
    "        if file.endswith(\"small.jpg\"):\n",
    "            full_path = os.path.join(root,file)\n",
    "            study.append(int(os.path.basename(os.path.dirname(full_path))[1:]))\n",
    "            patient.append(int(os.path.basename(os.path.dirname(os.path.dirname(full_path)))[1:]))\n",
    "            file_paths.append(full_path.lstrip(data_dir))\n",
    "            im_name,_= os.path.splitext(file)\n",
    "            im_names.append(im_name.removeprefix(data_dir+'files/').rstrip(\"_small\"))\n",
    "\n",
    "df = pd.DataFrame({\n",
    "    'path_preproc':file_paths,\n",
    "    'image_id':im_names,\n",
    "    'subject_id': patient,\n",
    "    'study_id':study\n",
    "})"
   ]
  },
  {
   "cell_type": "code",
   "execution_count": 3,
   "id": "2fadb0eb",
   "metadata": {},
   "outputs": [
    {
     "data": {
      "text/html": [
       "<div>\n",
       "<style scoped>\n",
       "    .dataframe tbody tr th:only-of-type {\n",
       "        vertical-align: middle;\n",
       "    }\n",
       "\n",
       "    .dataframe tbody tr th {\n",
       "        vertical-align: top;\n",
       "    }\n",
       "\n",
       "    .dataframe thead th {\n",
       "        text-align: right;\n",
       "    }\n",
       "</style>\n",
       "<table border=\"1\" class=\"dataframe\">\n",
       "  <thead>\n",
       "    <tr style=\"text-align: right;\">\n",
       "      <th></th>\n",
       "      <th>path_preproc</th>\n",
       "      <th>image_id</th>\n",
       "      <th>subject_id</th>\n",
       "      <th>study_id</th>\n",
       "    </tr>\n",
       "  </thead>\n",
       "  <tbody>\n",
       "    <tr>\n",
       "      <th>0</th>\n",
       "      <td>files/p15/p15092875/s57299949/1f99a5c7-4b8b443...</td>\n",
       "      <td>1f99a5c7-4b8b443a-3f65f9ac-be43fafa-9034393c</td>\n",
       "      <td>15092875</td>\n",
       "      <td>57299949</td>\n",
       "    </tr>\n",
       "    <tr>\n",
       "      <th>1</th>\n",
       "      <td>files/p15/p15329272/s50315533/9a6e72fe-1972803...</td>\n",
       "      <td>9a6e72fe-1972803e-16b8085f-57c32513-f8224f62</td>\n",
       "      <td>15329272</td>\n",
       "      <td>50315533</td>\n",
       "    </tr>\n",
       "    <tr>\n",
       "      <th>2</th>\n",
       "      <td>files/p15/p15329272/s50315533/e6d56f27-88edd2b...</td>\n",
       "      <td>e6d56f27-88edd2b6-b335ea30-adb8edc9-23892ed9</td>\n",
       "      <td>15329272</td>\n",
       "      <td>50315533</td>\n",
       "    </tr>\n",
       "    <tr>\n",
       "      <th>3</th>\n",
       "      <td>files/p15/p15329272/s50807296/cdbe2ecf-3db9a99...</td>\n",
       "      <td>cdbe2ecf-3db9a998-ada5dd64-5ebfc986-a029153d</td>\n",
       "      <td>15329272</td>\n",
       "      <td>50807296</td>\n",
       "    </tr>\n",
       "    <tr>\n",
       "      <th>4</th>\n",
       "      <td>files/p15/p15084854/s55517838/bedc6bd8-4a86481...</td>\n",
       "      <td>bedc6bd8-4a864815-c1be923f-efa7f080-7c03d3c0</td>\n",
       "      <td>15084854</td>\n",
       "      <td>55517838</td>\n",
       "    </tr>\n",
       "    <tr>\n",
       "      <th>...</th>\n",
       "      <td>...</td>\n",
       "      <td>...</td>\n",
       "      <td>...</td>\n",
       "      <td>...</td>\n",
       "    </tr>\n",
       "    <tr>\n",
       "      <th>243207</th>\n",
       "      <td>files/p17/p17287974/s59278816/3cf01810-ba0b124...</td>\n",
       "      <td>3cf01810-ba0b1249-459efac3-7274c452-a9f4f6c2</td>\n",
       "      <td>17287974</td>\n",
       "      <td>59278816</td>\n",
       "    </tr>\n",
       "    <tr>\n",
       "      <th>243208</th>\n",
       "      <td>files/p17/p17267806/s55359345/d97f4017-5769bcd...</td>\n",
       "      <td>d97f4017-5769bcd6-64d7d578-df80bb60-0865bfd6</td>\n",
       "      <td>17267806</td>\n",
       "      <td>55359345</td>\n",
       "    </tr>\n",
       "    <tr>\n",
       "      <th>243209</th>\n",
       "      <td>files/p17/p17074525/s50198756/045856cf-8ce242d...</td>\n",
       "      <td>045856cf-8ce242d1-b7f98f35-2e0079dc-2b969618</td>\n",
       "      <td>17074525</td>\n",
       "      <td>50198756</td>\n",
       "    </tr>\n",
       "    <tr>\n",
       "      <th>243210</th>\n",
       "      <td>files/p17/p17215130/s54394902/5b2ed827-ee959b9...</td>\n",
       "      <td>5b2ed827-ee959b9c-b22eea89-0ecb6ce7-44c612e2</td>\n",
       "      <td>17215130</td>\n",
       "      <td>54394902</td>\n",
       "    </tr>\n",
       "    <tr>\n",
       "      <th>243211</th>\n",
       "      <td>files/p17/p17727589/s51497063/cf1a46b0-a91dd68...</td>\n",
       "      <td>cf1a46b0-a91dd680-2f031c6a-f1bc0a93-d07d6d34</td>\n",
       "      <td>17727589</td>\n",
       "      <td>51497063</td>\n",
       "    </tr>\n",
       "  </tbody>\n",
       "</table>\n",
       "<p>243212 rows × 4 columns</p>\n",
       "</div>"
      ],
      "text/plain": [
       "                                             path_preproc   \n",
       "0       files/p15/p15092875/s57299949/1f99a5c7-4b8b443...  \\\n",
       "1       files/p15/p15329272/s50315533/9a6e72fe-1972803...   \n",
       "2       files/p15/p15329272/s50315533/e6d56f27-88edd2b...   \n",
       "3       files/p15/p15329272/s50807296/cdbe2ecf-3db9a99...   \n",
       "4       files/p15/p15084854/s55517838/bedc6bd8-4a86481...   \n",
       "...                                                   ...   \n",
       "243207  files/p17/p17287974/s59278816/3cf01810-ba0b124...   \n",
       "243208  files/p17/p17267806/s55359345/d97f4017-5769bcd...   \n",
       "243209  files/p17/p17074525/s50198756/045856cf-8ce242d...   \n",
       "243210  files/p17/p17215130/s54394902/5b2ed827-ee959b9...   \n",
       "243211  files/p17/p17727589/s51497063/cf1a46b0-a91dd68...   \n",
       "\n",
       "                                            image_id  subject_id  study_id  \n",
       "0       1f99a5c7-4b8b443a-3f65f9ac-be43fafa-9034393c    15092875  57299949  \n",
       "1       9a6e72fe-1972803e-16b8085f-57c32513-f8224f62    15329272  50315533  \n",
       "2       e6d56f27-88edd2b6-b335ea30-adb8edc9-23892ed9    15329272  50315533  \n",
       "3       cdbe2ecf-3db9a998-ada5dd64-5ebfc986-a029153d    15329272  50807296  \n",
       "4       bedc6bd8-4a864815-c1be923f-efa7f080-7c03d3c0    15084854  55517838  \n",
       "...                                              ...         ...       ...  \n",
       "243207  3cf01810-ba0b1249-459efac3-7274c452-a9f4f6c2    17287974  59278816  \n",
       "243208  d97f4017-5769bcd6-64d7d578-df80bb60-0865bfd6    17267806  55359345  \n",
       "243209  045856cf-8ce242d1-b7f98f35-2e0079dc-2b969618    17074525  50198756  \n",
       "243210  5b2ed827-ee959b9c-b22eea89-0ecb6ce7-44c612e2    17215130  54394902  \n",
       "243211  cf1a46b0-a91dd680-2f031c6a-f1bc0a93-d07d6d34    17727589  51497063  \n",
       "\n",
       "[243212 rows x 4 columns]"
      ]
     },
     "execution_count": 3,
     "metadata": {},
     "output_type": "execute_result"
    }
   ],
   "source": [
    "df"
   ]
  },
  {
   "cell_type": "code",
   "execution_count": 4,
   "id": "10a997fe",
   "metadata": {},
   "outputs": [],
   "source": [
    "admissions_df = pd.read_csv(data_dir+\"admissions.csv\")\n",
    "ethnicity_df = admissions_df.loc[:,['subject_id', 'race']].drop_duplicates()\n",
    "\n",
    "v = ethnicity_df.subject_id.value_counts()\n",
    "subject_id_more_than_once = v.index[v.gt(1)]\n",
    "\n",
    "ambiguous_ethnicity_df = ethnicity_df[ethnicity_df.subject_id.isin(subject_id_more_than_once)]\n",
    "inconsistent_race = ambiguous_ethnicity_df.subject_id.unique()\n",
    "\n",
    "\n",
    "patients_df = pd.read_csv(data_dir+\"patients.csv\")\n",
    "patients_df = patients_df[[\"subject_id\", \"gender\", \"anchor_age\"]].drop_duplicates()\n",
    "\n",
    "diagnosis_df = pd.read_csv(data_dir + 'mimic-cxr-2.0.0-chexpert.csv')"
   ]
  },
  {
   "cell_type": "code",
   "execution_count": 5,
   "id": "f2305632",
   "metadata": {},
   "outputs": [],
   "source": [
    "merge_df = pd.merge(df,diagnosis_df,on=['subject_id', 'study_id'])\n",
    "merge_df = pd.merge(merge_df,ethnicity_df,on='subject_id')\n",
    "merge_df = merge_df[~merge_df.subject_id.isin(inconsistent_race)]\n",
    "df_cxr = pd.merge(merge_df,patients_df, on='subject_id')"
   ]
  },
  {
   "cell_type": "code",
   "execution_count": 6,
   "id": "514fa7be",
   "metadata": {},
   "outputs": [],
   "source": [
    "df_cxr = df_cxr.rename(columns={'anchor_age': 'age'})"
   ]
  },
  {
   "cell_type": "code",
   "execution_count": 7,
   "id": "1625a9af",
   "metadata": {},
   "outputs": [],
   "source": [
    "mask = (df_cxr.race.str.contains(\"BLACK\", na=False))\n",
    "df_cxr.loc[mask, \"race\"] = \"Black\"\n",
    "\n",
    "mask = (df_cxr.race.str.contains(\"WHITE\", na=False))\n",
    "df_cxr.loc[mask, \"race\"] = \"White\"\n",
    "\n",
    "mask = (df_cxr.race.str.contains(\"PORTUGUESE\", na=False))\n",
    "df_cxr.loc[mask, \"race\"] = \"White\"\n",
    "\n",
    "mask = (df_cxr.race.str.contains(\"ASIAN\", na=False))\n",
    "df_cxr.loc[mask, \"race\"] = \"Asian\"\n",
    "\n",
    "mask = (df_cxr.race.str.contains(\"HISPANIC\", na=False))\n",
    "df_cxr.loc[mask, \"race\"] = \"Hispanic\"\n",
    "\n",
    "mask = (df_cxr.race.str.contains(\"SOUTH AMERICAN\", na=False))\n",
    "df_cxr.loc[mask, \"race\"] = \"Hispanic\""
   ]
  },
  {
   "cell_type": "code",
   "execution_count": 8,
   "id": "3c8594f9",
   "metadata": {},
   "outputs": [
    {
     "data": {
      "text/plain": [
       "array(['White', 'Black', 'Asian'], dtype=object)"
      ]
     },
     "execution_count": 8,
     "metadata": {},
     "output_type": "execute_result"
    }
   ],
   "source": [
    "df_cxr = df_cxr[df_cxr.race.isin([\"Asian\",\"Black\",\"White\"])]\n",
    "df_cxr['race'].unique()"
   ]
  },
  {
   "cell_type": "code",
   "execution_count": 9,
   "id": "d44a07b6",
   "metadata": {
    "scrolled": true
   },
   "outputs": [],
   "source": [
    "df_cxr['race_label'] = df_cxr['race']\n",
    "\n",
    "df_cxr.loc[df_cxr['race_label'] == 'White', 'race_label'] = 0\n",
    "df_cxr.loc[df_cxr['race_label'] == 'Asian', 'race_label'] = 1\n",
    "df_cxr.loc[df_cxr['race_label'] == 'Black', 'race_label'] = 2"
   ]
  },
  {
   "cell_type": "code",
   "execution_count": 10,
   "id": "c4029071",
   "metadata": {},
   "outputs": [],
   "source": [
    "df_cxr.loc[df_cxr['gender'] == 'F', 'sex'] = 'Female'\n",
    "df_cxr.loc[df_cxr['gender'] == 'M', 'sex'] = 'Male'"
   ]
  },
  {
   "cell_type": "code",
   "execution_count": 11,
   "id": "62c1c2b8",
   "metadata": {},
   "outputs": [
    {
     "name": "stdout",
     "output_type": "stream",
     "text": [
      "0.46243053158953246\n"
     ]
    }
   ],
   "source": [
    "print(sum(df_cxr['gender'] == 'F') / len(df_cxr['gender']))"
   ]
  },
  {
   "cell_type": "code",
   "execution_count": 12,
   "id": "50b8cae3",
   "metadata": {},
   "outputs": [],
   "source": [
    "df_cxr['sex_label'] = df_cxr['sex']\n",
    "\n",
    "df_cxr.loc[df_cxr['sex_label'] == 'Male', 'sex_label'] = 0\n",
    "df_cxr.loc[df_cxr['sex_label'] == 'Female', 'sex_label'] = 1"
   ]
  },
  {
   "cell_type": "code",
   "execution_count": 13,
   "id": "bf41de93",
   "metadata": {},
   "outputs": [
    {
     "data": {
      "text/plain": [
       "array(['Male', 'Female'], dtype=object)"
      ]
     },
     "execution_count": 13,
     "metadata": {},
     "output_type": "execute_result"
    }
   ],
   "source": [
    "df_cxr['sex'].unique()"
   ]
  },
  {
   "cell_type": "code",
   "execution_count": 14,
   "id": "8d4ff2ce",
   "metadata": {},
   "outputs": [],
   "source": [
    "labels = [\n",
    "    'No Finding',\n",
    "    'Enlarged Cardiomediastinum',\n",
    "    'Cardiomegaly',\n",
    "    'Lung Opacity',\n",
    "    'Lung Lesion',\n",
    "    'Edema',\n",
    "    'Consolidation',\n",
    "    'Pneumonia',\n",
    "    'Atelectasis',\n",
    "    'Pneumothorax',\n",
    "    'Pleural Effusion',\n",
    "    'Pleural Other',\n",
    "    'Fracture',\n",
    "    'Support Devices']"
   ]
  },
  {
   "cell_type": "code",
   "execution_count": 15,
   "id": "e1242db4",
   "metadata": {
    "scrolled": false
   },
   "outputs": [],
   "source": [
    "df_cxr['disease'] = df_cxr[labels[0]]\n",
    "df_cxr.loc[df_cxr[labels[0]] == 1, 'disease'] = labels[0]\n",
    "df_cxr.loc[df_cxr[labels[10]] == 1, 'disease'] = labels[10]\n",
    "df_cxr.loc[df_cxr['disease'].isna(), 'disease'] = 'Other'\n",
    "\n",
    "df_cxr['disease_label'] = df_cxr['disease']\n",
    "df_cxr.loc[df_cxr['disease_label'] == labels[0], 'disease_label'] = 0\n",
    "df_cxr.loc[df_cxr['disease_label'] == labels[10], 'disease_label'] = 1\n",
    "df_cxr.loc[df_cxr['disease_label'] == 'Other', 'disease_label'] = 2"
   ]
  },
  {
   "cell_type": "code",
   "execution_count": 16,
   "id": "c6d0ba92",
   "metadata": {
    "scrolled": false
   },
   "outputs": [],
   "source": [
    "df_cxr = df_cxr.drop(df_cxr[df_cxr.disease_label == 2].index)"
   ]
  },
  {
   "cell_type": "code",
   "execution_count": 17,
   "id": "dc313e46",
   "metadata": {},
   "outputs": [],
   "source": [
    "df_cxr = df_cxr.drop(columns=['study_id', 'Atelectasis','Cardiomegaly', 'Consolidation', 'Edema',\n",
    "       'Enlarged Cardiomediastinum', 'Fracture', 'Lung Lesion', 'Lung Opacity',\n",
    "       'No Finding', 'Pleural Effusion', 'Pleural Other', 'Pneumonia',\n",
    "       'Pneumothorax', 'Support Devices', 'race', 'gender', 'sex', 'disease'])"
   ]
  },
  {
   "cell_type": "code",
   "execution_count": 18,
   "id": "179003b1",
   "metadata": {},
   "outputs": [
    {
     "data": {
      "text/html": [
       "<div>\n",
       "<style scoped>\n",
       "    .dataframe tbody tr th:only-of-type {\n",
       "        vertical-align: middle;\n",
       "    }\n",
       "\n",
       "    .dataframe tbody tr th {\n",
       "        vertical-align: top;\n",
       "    }\n",
       "\n",
       "    .dataframe thead th {\n",
       "        text-align: right;\n",
       "    }\n",
       "</style>\n",
       "<table border=\"1\" class=\"dataframe\">\n",
       "  <thead>\n",
       "    <tr style=\"text-align: right;\">\n",
       "      <th></th>\n",
       "      <th>path_preproc</th>\n",
       "      <th>image_id</th>\n",
       "      <th>subject_id</th>\n",
       "      <th>age</th>\n",
       "      <th>race_label</th>\n",
       "      <th>sex_label</th>\n",
       "      <th>disease_label</th>\n",
       "    </tr>\n",
       "  </thead>\n",
       "  <tbody>\n",
       "    <tr>\n",
       "      <th>4</th>\n",
       "      <td>files/p15/p15084854/s55517838/bedc6bd8-4a86481...</td>\n",
       "      <td>bedc6bd8-4a864815-c1be923f-efa7f080-7c03d3c0</td>\n",
       "      <td>15084854</td>\n",
       "      <td>32</td>\n",
       "      <td>0</td>\n",
       "      <td>1</td>\n",
       "      <td>0</td>\n",
       "    </tr>\n",
       "    <tr>\n",
       "      <th>5</th>\n",
       "      <td>files/p15/p15084854/s53449257/d02bae78-c6084e1...</td>\n",
       "      <td>d02bae78-c6084e16-a5321712-02e3dfb6-d6cd1d5e</td>\n",
       "      <td>15084854</td>\n",
       "      <td>32</td>\n",
       "      <td>0</td>\n",
       "      <td>1</td>\n",
       "      <td>0</td>\n",
       "    </tr>\n",
       "    <tr>\n",
       "      <th>11</th>\n",
       "      <td>files/p15/p15467022/s55971724/7c14c513-4c38def...</td>\n",
       "      <td>7c14c513-4c38def0-4de59a7a-e9f5959c-07207003</td>\n",
       "      <td>15467022</td>\n",
       "      <td>87</td>\n",
       "      <td>0</td>\n",
       "      <td>1</td>\n",
       "      <td>0</td>\n",
       "    </tr>\n",
       "    <tr>\n",
       "      <th>12</th>\n",
       "      <td>files/p15/p15467022/s58996752/00a4310d-27a2428...</td>\n",
       "      <td>00a4310d-27a24281-a464ab8d-eec250bf-989c11a1</td>\n",
       "      <td>15467022</td>\n",
       "      <td>87</td>\n",
       "      <td>0</td>\n",
       "      <td>1</td>\n",
       "      <td>0</td>\n",
       "    </tr>\n",
       "    <tr>\n",
       "      <th>13</th>\n",
       "      <td>files/p15/p15097409/s50254818/3f60cbff-662b0df...</td>\n",
       "      <td>3f60cbff-662b0dfd-efe326a4-dc040d2b-c89e96c4</td>\n",
       "      <td>15097409</td>\n",
       "      <td>53</td>\n",
       "      <td>0</td>\n",
       "      <td>0</td>\n",
       "      <td>0</td>\n",
       "    </tr>\n",
       "    <tr>\n",
       "      <th>...</th>\n",
       "      <td>...</td>\n",
       "      <td>...</td>\n",
       "      <td>...</td>\n",
       "      <td>...</td>\n",
       "      <td>...</td>\n",
       "      <td>...</td>\n",
       "      <td>...</td>\n",
       "    </tr>\n",
       "    <tr>\n",
       "      <th>189813</th>\n",
       "      <td>files/p17/p17486028/s52003134/4f8fddab-fbc72ad...</td>\n",
       "      <td>4f8fddab-fbc72ad0-f2064c47-d4626012-ae552ea4</td>\n",
       "      <td>17486028</td>\n",
       "      <td>56</td>\n",
       "      <td>0</td>\n",
       "      <td>1</td>\n",
       "      <td>1</td>\n",
       "    </tr>\n",
       "    <tr>\n",
       "      <th>189817</th>\n",
       "      <td>files/p17/p17013248/s53038109/60ef66a7-b493d20...</td>\n",
       "      <td>60ef66a7-b493d204-891c70fb-f986453c-91184533</td>\n",
       "      <td>17013248</td>\n",
       "      <td>46</td>\n",
       "      <td>0</td>\n",
       "      <td>1</td>\n",
       "      <td>0</td>\n",
       "    </tr>\n",
       "    <tr>\n",
       "      <th>189819</th>\n",
       "      <td>files/p17/p17407744/s50924930/7004730d-a1c94c9...</td>\n",
       "      <td>7004730d-a1c94c9e-2a69a336-9f3df84e-88d9cc5e</td>\n",
       "      <td>17407744</td>\n",
       "      <td>82</td>\n",
       "      <td>0</td>\n",
       "      <td>1</td>\n",
       "      <td>0</td>\n",
       "    </tr>\n",
       "    <tr>\n",
       "      <th>189821</th>\n",
       "      <td>files/p17/p17407744/s58264221/faeed6e6-9c051bb...</td>\n",
       "      <td>faeed6e6-9c051bbb-8e35cd07-e8b0eff9-7e1cc3ed</td>\n",
       "      <td>17407744</td>\n",
       "      <td>82</td>\n",
       "      <td>0</td>\n",
       "      <td>1</td>\n",
       "      <td>1</td>\n",
       "    </tr>\n",
       "    <tr>\n",
       "      <th>189822</th>\n",
       "      <td>files/p17/p17267806/s55359345/d97f4017-5769bcd...</td>\n",
       "      <td>d97f4017-5769bcd6-64d7d578-df80bb60-0865bfd6</td>\n",
       "      <td>17267806</td>\n",
       "      <td>65</td>\n",
       "      <td>0</td>\n",
       "      <td>1</td>\n",
       "      <td>0</td>\n",
       "    </tr>\n",
       "  </tbody>\n",
       "</table>\n",
       "<p>94522 rows × 7 columns</p>\n",
       "</div>"
      ],
      "text/plain": [
       "                                             path_preproc   \n",
       "4       files/p15/p15084854/s55517838/bedc6bd8-4a86481...  \\\n",
       "5       files/p15/p15084854/s53449257/d02bae78-c6084e1...   \n",
       "11      files/p15/p15467022/s55971724/7c14c513-4c38def...   \n",
       "12      files/p15/p15467022/s58996752/00a4310d-27a2428...   \n",
       "13      files/p15/p15097409/s50254818/3f60cbff-662b0df...   \n",
       "...                                                   ...   \n",
       "189813  files/p17/p17486028/s52003134/4f8fddab-fbc72ad...   \n",
       "189817  files/p17/p17013248/s53038109/60ef66a7-b493d20...   \n",
       "189819  files/p17/p17407744/s50924930/7004730d-a1c94c9...   \n",
       "189821  files/p17/p17407744/s58264221/faeed6e6-9c051bb...   \n",
       "189822  files/p17/p17267806/s55359345/d97f4017-5769bcd...   \n",
       "\n",
       "                                            image_id  subject_id  age   \n",
       "4       bedc6bd8-4a864815-c1be923f-efa7f080-7c03d3c0    15084854   32  \\\n",
       "5       d02bae78-c6084e16-a5321712-02e3dfb6-d6cd1d5e    15084854   32   \n",
       "11      7c14c513-4c38def0-4de59a7a-e9f5959c-07207003    15467022   87   \n",
       "12      00a4310d-27a24281-a464ab8d-eec250bf-989c11a1    15467022   87   \n",
       "13      3f60cbff-662b0dfd-efe326a4-dc040d2b-c89e96c4    15097409   53   \n",
       "...                                              ...         ...  ...   \n",
       "189813  4f8fddab-fbc72ad0-f2064c47-d4626012-ae552ea4    17486028   56   \n",
       "189817  60ef66a7-b493d204-891c70fb-f986453c-91184533    17013248   46   \n",
       "189819  7004730d-a1c94c9e-2a69a336-9f3df84e-88d9cc5e    17407744   82   \n",
       "189821  faeed6e6-9c051bbb-8e35cd07-e8b0eff9-7e1cc3ed    17407744   82   \n",
       "189822  d97f4017-5769bcd6-64d7d578-df80bb60-0865bfd6    17267806   65   \n",
       "\n",
       "       race_label sex_label disease_label  \n",
       "4               0         1             0  \n",
       "5               0         1             0  \n",
       "11              0         1             0  \n",
       "12              0         1             0  \n",
       "13              0         0             0  \n",
       "...           ...       ...           ...  \n",
       "189813          0         1             1  \n",
       "189817          0         1             0  \n",
       "189819          0         1             0  \n",
       "189821          0         1             1  \n",
       "189822          0         1             0  \n",
       "\n",
       "[94522 rows x 7 columns]"
      ]
     },
     "execution_count": 18,
     "metadata": {},
     "output_type": "execute_result"
    }
   ],
   "source": [
    "df_cxr"
   ]
  },
  {
   "cell_type": "code",
   "execution_count": 19,
   "id": "49a15f88",
   "metadata": {},
   "outputs": [],
   "source": [
    "df_cxr.insert(5, \"split\",\"none\", True)\n",
    "unique_sub_id = df_cxr.subject_id.unique()\n",
    "\n",
    "train_percent, valid_percent, test_percent = 0.60, 0.10, 0.30\n",
    "\n",
    "unique_sub_id = shuffle(unique_sub_id)\n",
    "value1 = (round(len(unique_sub_id)*train_percent))\n",
    "value2 = (round(len(unique_sub_id)*valid_percent))\n",
    "value3 = value1 + value2\n",
    "value4 = (round(len(unique_sub_id)*test_percent))"
   ]
  },
  {
   "cell_type": "code",
   "execution_count": 20,
   "id": "003316ed",
   "metadata": {},
   "outputs": [],
   "source": [
    "df_cxr = shuffle(df_cxr)\n",
    "\n",
    "train_sub_id = unique_sub_id[:value1]\n",
    "validate_sub_id = unique_sub_id[value1:value3]\n",
    "test_sub_id = unique_sub_id[value3:]"
   ]
  },
  {
   "cell_type": "code",
   "execution_count": 21,
   "id": "b081a4ab",
   "metadata": {},
   "outputs": [],
   "source": [
    "df_cxr.loc[df_cxr.subject_id.isin(train_sub_id), \"split\"]=\"train\"\n",
    "df_cxr.loc[df_cxr.subject_id.isin(validate_sub_id), \"split\"]=\"validate\"\n",
    "df_cxr.loc[df_cxr.subject_id.isin(test_sub_id), \"split\"]=\"test\""
   ]
  },
  {
   "cell_type": "code",
   "execution_count": 22,
   "id": "886b1935",
   "metadata": {},
   "outputs": [
    {
     "data": {
      "text/plain": [
       "split\n",
       "train       0.602294\n",
       "test        0.299369\n",
       "validate    0.098337\n",
       "Name: proportion, dtype: float64"
      ]
     },
     "execution_count": 22,
     "metadata": {},
     "output_type": "execute_result"
    }
   ],
   "source": [
    "df_cxr.split.value_counts(normalize=True)"
   ]
  },
  {
   "cell_type": "code",
   "execution_count": 23,
   "id": "0e16f38f",
   "metadata": {
    "scrolled": true
   },
   "outputs": [
    {
     "data": {
      "text/plain": [
       "split\n",
       "train       56930\n",
       "test        28297\n",
       "validate     9295\n",
       "Name: count, dtype: int64"
      ]
     },
     "execution_count": 23,
     "metadata": {},
     "output_type": "execute_result"
    }
   ],
   "source": [
    "df_cxr.split.value_counts(normalize=False)"
   ]
  },
  {
   "cell_type": "code",
   "execution_count": 24,
   "id": "0b1d9027",
   "metadata": {},
   "outputs": [],
   "source": [
    "df_cxr.to_csv(data_dir + 'mimic.sample.csv')\n",
    "\n",
    "df_train = df_cxr[df_cxr.split==\"train\"].drop(columns=[\"subject_id\", \"split\"])\n",
    "df_val = df_cxr[df_cxr.split==\"validate\"].drop(columns=[\"subject_id\", \"split\"])\n",
    "df_test = df_cxr[df_cxr.split==\"test\"].drop(columns=[\"subject_id\", \"split\"])\n",
    "\n",
    "df_train.to_csv(data_dir + 'meta/train.csv')\n",
    "df_val.to_csv(data_dir + 'meta/valid.csv')\n",
    "df_test.to_csv(data_dir + 'meta/test.csv')"
   ]
  },
  {
   "cell_type": "code",
   "execution_count": 25,
   "id": "935d746f",
   "metadata": {
    "scrolled": false
   },
   "outputs": [
    {
     "name": "stderr",
     "output_type": "stream",
     "text": [
      "100%|████████████████████████████████████████████████████████████████████████████████████████████████████████████████████████████████████| 3/3 [00:01<00:00,  1.63it/s]\n"
     ]
    }
   ],
   "source": [
    "props = [0.3, 0.4, 0.5]\n",
    "name = 'less'\n",
    "for prop in tqdm(props):\n",
    "    df_cxr.to_csv(data_dir + 'mimic.sample.csv')\n",
    "\n",
    "    df_train = df_cxr[df_cxr.split==\"train\"].drop(columns=[\"subject_id\", \"split\"])\n",
    "    df_val = df_cxr[df_cxr.split==\"validate\"].drop(columns=[\"subject_id\", \"split\"])\n",
    "    df_test = df_cxr[df_cxr.split==\"test\"].drop(columns=[\"subject_id\", \"split\"])\n",
    "\n",
    "    if name == \"less\":\n",
    "        remove_n = int(len(df_train)*(1-prop))\n",
    "        drop_indices = np.random.choice(df_train.index, remove_n, replace=False)\n",
    "        df_train = df_train.drop(drop_indices)\n",
    "        df_train.to_csv(data_dir + 'meta/'+name+'/train_'+str(prop)+'.csv')\n",
    "    \n",
    "    if name == \"missing\":\n",
    "        columns_to_set_nan = ['race_label', 'sex_label', 'disease_label', 'age']\n",
    "        num_values_to_set_nan = int(len(df_train)*(1-prop))\n",
    "        random_indices = np.random.choice(df_train.index, size=num_values_to_set_nan, replace=False)\n",
    "        df_train.loc[random_indices, columns_to_set_nan] = float(\"nan\")\n",
    "        df_train_lab = df_train.loc[list(set(df_train.index).difference(set(random_indices)))]\n",
    "        df_train_unlab = df_train.loc[random_indices]\n",
    "        df_train_lab.to_csv(data_dir + 'meta/'+name+'/train_lab_'+str(prop)+'.csv')\n",
    "        df_train_unlab.to_csv(data_dir + 'meta/'+name+'/train_unlab_'+str(prop)+'.csv')\n",
    "    \n",
    "    if name == \"random\":\n",
    "        num_values_to_set_nan = int(len(df_train)*(1-prop))\n",
    "        random_indices = np.random.choice(df_train.index, size=num_values_to_set_nan, replace=False)\n",
    "        df_train.loc[random_indices, 'race_label'] = float(\"nan\")\n",
    "        random_indices = np.random.choice(df_train.index, size=num_values_to_set_nan, replace=False)\n",
    "        df_train.loc[random_indices, 'sex_label'] = float(\"nan\")\n",
    "        random_indices = np.random.choice(df_train.index, size=num_values_to_set_nan, replace=False)\n",
    "        df_train.loc[random_indices, 'disease_label'] = float(\"nan\")\n",
    "        random_indices = np.random.choice(df_train.index, size=num_values_to_set_nan, replace=False)\n",
    "        df_train.loc[random_indices, 'age'] = float(\"nan\")\n",
    "        df_train.to_csv(data_dir + 'meta/'+name+'/train_'+str(prop)+'.csv')\n",
    "\n",
    "    \n",
    "    df_val.to_csv(data_dir + 'meta/'+name+'/valid_'+str(prop)+'.csv')\n",
    "    df_test.to_csv(data_dir + 'meta/'+name+'/test_'+str(prop)+'.csv')"
   ]
  },
  {
   "cell_type": "code",
   "execution_count": 26,
   "id": "b1befc21",
   "metadata": {
    "scrolled": true
   },
   "outputs": [
    {
     "ename": "NameError",
     "evalue": "name 'df_train_lab' is not defined",
     "output_type": "error",
     "traceback": [
      "\u001b[0;31m---------------------------------------------------------------------------\u001b[0m",
      "\u001b[0;31mNameError\u001b[0m                                 Traceback (most recent call last)",
      "Cell \u001b[0;32mIn[26], line 1\u001b[0m\n\u001b[0;32m----> 1\u001b[0m \u001b[43mdf_train_lab\u001b[49m\n",
      "\u001b[0;31mNameError\u001b[0m: name 'df_train_lab' is not defined"
     ]
    }
   ],
   "source": [
    "df_train_lab"
   ]
  },
  {
   "cell_type": "code",
   "execution_count": null,
   "id": "77faea2d",
   "metadata": {},
   "outputs": [],
   "source": []
  }
 ],
 "metadata": {
  "kernelspec": {
   "display_name": "Python 3 (ipykernel)",
   "language": "python",
   "name": "python3"
  },
  "language_info": {
   "codemirror_mode": {
    "name": "ipython",
    "version": 3
   },
   "file_extension": ".py",
   "mimetype": "text/x-python",
   "name": "python",
   "nbconvert_exporter": "python",
   "pygments_lexer": "ipython3",
   "version": "3.10.13"
  }
 },
 "nbformat": 4,
 "nbformat_minor": 5
}
